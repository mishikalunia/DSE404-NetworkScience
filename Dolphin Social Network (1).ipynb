{
 "cells": [
  {
   "cell_type": "code",
   "execution_count": 1,
   "id": "821a7d78",
   "metadata": {},
   "outputs": [],
   "source": [
    "import pandas as pd\n",
    "import numpy as np\n",
    "import networkx as nx\n",
    "import collections"
   ]
  },
  {
   "cell_type": "code",
   "execution_count": 2,
   "id": "5aeb04cc",
   "metadata": {},
   "outputs": [
    {
     "name": "stdout",
     "output_type": "stream",
     "text": [
      "      x   y\n",
      "0     4   9\n",
      "1     6  10\n",
      "2     7  10\n",
      "3     1  11\n",
      "4     3  11\n",
      "..   ..  ..\n",
      "154  46  60\n",
      "155  33  61\n",
      "156   3  62\n",
      "157  38  62\n",
      "158  54  62\n",
      "\n",
      "[159 rows x 2 columns]\n"
     ]
    }
   ],
   "source": [
    "df = pd.read_csv('dolphin_edges.csv')\n",
    "print(df)"
   ]
  },
  {
   "cell_type": "code",
   "execution_count": 3,
   "id": "cb969e40",
   "metadata": {
    "scrolled": true
   },
   "outputs": [
    {
     "name": "stdout",
     "output_type": "stream",
     "text": [
      "          name sex\n",
      "0         Beak   M\n",
      "1   Beescratch   M\n",
      "2       Bumper   M\n",
      "3          CCL   F\n",
      "4        Cross   M\n",
      "..         ...  ..\n",
      "57         Web   M\n",
      "58    Whitetip   F\n",
      "59         Zap   U\n",
      "60         Zig   M\n",
      "61      Zipfel   M\n",
      "\n",
      "[62 rows x 2 columns]\n"
     ]
    }
   ],
   "source": [
    "fd = pd.read_csv('dolphin_nodes.csv')\n",
    "print(fd)"
   ]
  },
  {
   "cell_type": "code",
   "execution_count": 4,
   "id": "68cacb2c",
   "metadata": {},
   "outputs": [],
   "source": [
    "# determine the number of nodes in the graph\n",
    "\n",
    "num_nodes = max(df['x'].max(), df['y'].max())"
   ]
  },
  {
   "cell_type": "code",
   "execution_count": 5,
   "id": "49024a2f",
   "metadata": {},
   "outputs": [],
   "source": [
    "# create an empty adjacency matrix\n",
    "\n",
    "adj_matrix = np.zeros((num_nodes, num_nodes))"
   ]
  },
  {
   "cell_type": "code",
   "execution_count": 6,
   "id": "289cb4b3",
   "metadata": {},
   "outputs": [],
   "source": [
    "# iterate over the edges in the dataframe and fill in the adjacency matrix\n",
    "\n",
    "for index, row in df.iterrows():\n",
    "    source = row['x']\n",
    "    target = row['y']\n",
    "    adj_matrix[source - 1][target - 1] = 1\n",
    "    adj_matrix[target - 1][source - 1] = 1  # since the graph is undirected"
   ]
  },
  {
   "cell_type": "code",
   "execution_count": 7,
   "id": "98a3a28c",
   "metadata": {},
   "outputs": [
    {
     "name": "stdout",
     "output_type": "stream",
     "text": [
      "(62, 62)\n"
     ]
    }
   ],
   "source": [
    "# print the adjacency matrix\n",
    "\n",
    "print(adj_matrix.shape)"
   ]
  },
  {
   "cell_type": "code",
   "execution_count": 8,
   "id": "6364872c",
   "metadata": {},
   "outputs": [],
   "source": [
    "# save adjacency matrix as Networkx Graph\n",
    "\n",
    "df = pd.DataFrame(adj_matrix)\n",
    "G = nx.from_pandas_adjacency(df)"
   ]
  },
  {
   "cell_type": "code",
   "execution_count": 9,
   "id": "6e71186a",
   "metadata": {},
   "outputs": [
    {
     "name": "stdout",
     "output_type": "stream",
     "text": [
      "{0: [10, 14, 15, 40, 42, 47], 1: [17, 19, 26, 27, 28, 36, 41, 54], 2: [10, 42, 44, 61], 3: [8, 14, 59], 4: [51], 5: [9, 13, 56, 57], 6: [9, 13, 17, 54, 56, 57], 7: [19, 27, 30, 40, 54], 8: [3, 20, 28, 37, 45, 59], 9: [5, 6, 13, 17, 32, 41, 57], 10: [0, 2, 29, 42, 47], 11: [51], 12: [33], 13: [5, 6, 9, 17, 32, 41, 54, 57], 14: [0, 3, 16, 24, 33, 34, 37, 38, 40, 43, 50, 52], 15: [0, 18, 24, 40, 45, 55, 59], 16: [14, 20, 33, 37, 38, 50], 17: [1, 6, 9, 13, 22, 25, 27, 31, 57], 18: [15, 20, 21, 24, 29, 45, 51], 19: [1, 7, 30, 54], 20: [8, 16, 18, 28, 36, 38, 44, 47, 50], 21: [18, 29, 33, 37, 45, 51], 22: [17], 23: [36, 45, 51], 24: [14, 15, 18, 29, 45, 51], 25: [17, 26, 27], 26: [1, 25, 27], 27: [1, 7, 17, 25, 26], 28: [1, 8, 20, 30, 47], 29: [10, 18, 21, 24, 35, 43, 45, 51, 52], 30: [7, 19, 28, 42, 47], 31: [17], 32: [9, 13, 60], 33: [12, 14, 16, 21, 34, 37, 38, 40, 43, 50], 34: [14, 33, 37, 44, 49], 35: [29], 36: [1, 20, 23, 37, 39, 40, 59], 37: [8, 14, 16, 21, 33, 34, 36, 40, 43, 45, 61], 38: [14, 16, 20, 33, 43, 44, 52, 58], 39: [36, 57], 40: [0, 7, 14, 15, 33, 36, 37, 52], 41: [1, 9, 13, 54, 57], 42: [0, 2, 10, 30, 47, 50], 43: [14, 29, 33, 37, 38, 46, 53], 44: [2, 20, 34, 38], 45: [8, 15, 18, 21, 23, 24, 29, 37, 50, 51, 59], 46: [43, 49], 47: [0, 10, 20, 28, 30, 42], 48: [57], 49: [34, 46], 50: [14, 16, 20, 33, 42, 45, 51], 51: [4, 11, 18, 21, 23, 24, 29, 45, 50, 55], 52: [14, 29, 38, 40], 53: [43, 61], 54: [1, 6, 7, 13, 19, 41, 57], 55: [15, 51], 56: [5, 6], 57: [5, 6, 9, 13, 17, 39, 41, 48, 54], 58: [38], 59: [3, 8, 15, 36, 45], 60: [32], 61: [2, 37, 53]}\n"
     ]
    }
   ],
   "source": [
    "# save Networkx Graph as dictionary of list (input to the function defined below)\n",
    "\n",
    "graph = nx.to_dict_of_lists(G)\n",
    "print(graph)"
   ]
  },
  {
   "cell_type": "code",
   "execution_count": 10,
   "id": "b4dd2098",
   "metadata": {
    "scrolled": true
   },
   "outputs": [
    {
     "data": {
      "text/plain": [
       "{0: 0.3465909090909091,\n",
       " 1: 0.3719512195121951,\n",
       " 2: 0.2824074074074074,\n",
       " 3: 0.30808080808080807,\n",
       " 4: 0.24897959183673468,\n",
       " 5: 0.23828125,\n",
       " 6: 0.2675438596491228,\n",
       " 7: 0.3652694610778443,\n",
       " 8: 0.3630952380952381,\n",
       " 9: 0.25206611570247933,\n",
       " 10: 0.3128205128205128,\n",
       " 11: 0.24897959183673468,\n",
       " 12: 0.2687224669603524,\n",
       " 13: 0.27111111111111114,\n",
       " 14: 0.3765432098765432,\n",
       " 15: 0.3388888888888889,\n",
       " 16: 0.32972972972972975,\n",
       " 17: 0.3096446700507614,\n",
       " 18: 0.3370165745856354,\n",
       " 19: 0.3160621761658031,\n",
       " 20: 0.391025641025641,\n",
       " 21: 0.3333333333333333,\n",
       " 22: 0.23735408560311283,\n",
       " 23: 0.3333333333333333,\n",
       " 24: 0.3128205128205128,\n",
       " 25: 0.25523012552301255,\n",
       " 26: 0.2772727272727273,\n",
       " 27: 0.3160621761658031,\n",
       " 28: 0.3652694610778443,\n",
       " 29: 0.32275132275132273,\n",
       " 30: 0.32275132275132273,\n",
       " 31: 0.23735408560311283,\n",
       " 32: 0.21631205673758866,\n",
       " 33: 0.3652694610778443,\n",
       " 34: 0.3160621761658031,\n",
       " 35: 0.24497991967871485,\n",
       " 36: 0.4178082191780822,\n",
       " 37: 0.39869281045751637,\n",
       " 38: 0.32972972972972975,\n",
       " 39: 0.33516483516483514,\n",
       " 40: 0.40397350993377484,\n",
       " 41: 0.2975609756097561,\n",
       " 42: 0.32972972972972975,\n",
       " 43: 0.3370165745856354,\n",
       " 44: 0.3112244897959184,\n",
       " 45: 0.3465909090909091,\n",
       " 46: 0.25630252100840334,\n",
       " 47: 0.3388888888888889,\n",
       " 48: 0.23282442748091603,\n",
       " 49: 0.24696356275303644,\n",
       " 50: 0.3505747126436782,\n",
       " 51: 0.32972972972972975,\n",
       " 52: 0.34269662921348315,\n",
       " 53: 0.25957446808510637,\n",
       " 54: 0.324468085106383,\n",
       " 55: 0.27111111111111114,\n",
       " 56: 0.21328671328671328,\n",
       " 57: 0.30198019801980197,\n",
       " 58: 0.24897959183673468,\n",
       " 59: 0.34269662921348315,\n",
       " 60: 0.1783625730994152,\n",
       " 61: 0.30198019801980197}"
      ]
     },
     "execution_count": 10,
     "metadata": {},
     "output_type": "execute_result"
    }
   ],
   "source": [
    "nx.closeness_centrality(G)"
   ]
  },
  {
   "cell_type": "markdown",
   "id": "34b8fc86",
   "metadata": {},
   "source": [
    "# Alternatively"
   ]
  },
  {
   "cell_type": "code",
   "execution_count": 11,
   "id": "ce9bc271",
   "metadata": {},
   "outputs": [],
   "source": [
    "# define a function to compute the shortest paths from a given node to all other nodes\n",
    "def bfs_shortest_paths(graph, start):\n",
    "    queue = collections.deque([start])\n",
    "    visited = set([start])\n",
    "    distances = {start: 0}\n",
    "    while queue:\n",
    "        node = queue.popleft()\n",
    "        for neighbor in graph[node]:\n",
    "            if neighbor not in visited:\n",
    "                visited.add(neighbor)\n",
    "                queue.append(neighbor)\n",
    "                distances[neighbor] = distances[node] + 1\n",
    "    return distances\n"
   ]
  },
  {
   "cell_type": "code",
   "execution_count": 12,
   "id": "c80a67a0",
   "metadata": {},
   "outputs": [],
   "source": [
    "# define a function to compute the closeness centrality of a node\n",
    "def closeness_centrality_node(graph, node):\n",
    "    distances = bfs_shortest_paths(graph, node)\n",
    "    total_distance = sum(distances.values())\n",
    "    num_nodes = len(distances) - 1  # exclude the starting node\n",
    "    if num_nodes > 0:\n",
    "        return (num_nodes-2) / total_distance # excluding the additionally node 0 from the graph\n",
    "    else:\n",
    "        return 0.0"
   ]
  },
  {
   "cell_type": "code",
   "execution_count": 13,
   "id": "0ab86818",
   "metadata": {},
   "outputs": [],
   "source": [
    "# compute the closeness centrality of all nodes in the graph\n",
    "centrality = {}\n",
    "for node in graph:\n",
    "    centrality[node] = closeness_centrality_node(graph, node)"
   ]
  },
  {
   "cell_type": "code",
   "execution_count": 14,
   "id": "0d92ecc1",
   "metadata": {},
   "outputs": [
    {
     "name": "stdout",
     "output_type": "stream",
     "text": [
      "Node 0 has closeness centrality 0.3352\n",
      "Node 1 has closeness centrality 0.3598\n",
      "Node 2 has closeness centrality 0.2731\n",
      "Node 3 has closeness centrality 0.2980\n",
      "Node 4 has closeness centrality 0.2408\n",
      "Node 5 has closeness centrality 0.2305\n",
      "Node 6 has closeness centrality 0.2588\n",
      "Node 7 has closeness centrality 0.3533\n",
      "Node 8 has closeness centrality 0.3512\n",
      "Node 9 has closeness centrality 0.2438\n",
      "Node 10 has closeness centrality 0.3026\n",
      "Node 11 has closeness centrality 0.2408\n",
      "Node 12 has closeness centrality 0.2599\n",
      "Node 13 has closeness centrality 0.2622\n",
      "Node 14 has closeness centrality 0.3642\n",
      "Node 15 has closeness centrality 0.3278\n",
      "Node 16 has closeness centrality 0.3189\n",
      "Node 17 has closeness centrality 0.2995\n",
      "Node 18 has closeness centrality 0.3260\n",
      "Node 19 has closeness centrality 0.3057\n",
      "Node 20 has closeness centrality 0.3782\n",
      "Node 21 has closeness centrality 0.3224\n",
      "Node 22 has closeness centrality 0.2296\n",
      "Node 23 has closeness centrality 0.3224\n",
      "Node 24 has closeness centrality 0.3026\n",
      "Node 25 has closeness centrality 0.2469\n",
      "Node 26 has closeness centrality 0.2682\n",
      "Node 27 has closeness centrality 0.3057\n",
      "Node 28 has closeness centrality 0.3533\n",
      "Node 29 has closeness centrality 0.3122\n",
      "Node 30 has closeness centrality 0.3122\n",
      "Node 31 has closeness centrality 0.2296\n",
      "Node 32 has closeness centrality 0.2092\n",
      "Node 33 has closeness centrality 0.3533\n",
      "Node 34 has closeness centrality 0.3057\n",
      "Node 35 has closeness centrality 0.2369\n",
      "Node 36 has closeness centrality 0.4041\n",
      "Node 37 has closeness centrality 0.3856\n",
      "Node 38 has closeness centrality 0.3189\n",
      "Node 39 has closeness centrality 0.3242\n",
      "Node 40 has closeness centrality 0.3907\n",
      "Node 41 has closeness centrality 0.2878\n",
      "Node 42 has closeness centrality 0.3189\n",
      "Node 43 has closeness centrality 0.3260\n",
      "Node 44 has closeness centrality 0.3010\n",
      "Node 45 has closeness centrality 0.3352\n",
      "Node 46 has closeness centrality 0.2479\n",
      "Node 47 has closeness centrality 0.3278\n",
      "Node 48 has closeness centrality 0.2252\n",
      "Node 49 has closeness centrality 0.2389\n",
      "Node 50 has closeness centrality 0.3391\n",
      "Node 51 has closeness centrality 0.3189\n",
      "Node 52 has closeness centrality 0.3315\n",
      "Node 53 has closeness centrality 0.2511\n",
      "Node 54 has closeness centrality 0.3138\n",
      "Node 55 has closeness centrality 0.2622\n",
      "Node 56 has closeness centrality 0.2063\n",
      "Node 57 has closeness centrality 0.2921\n",
      "Node 58 has closeness centrality 0.2408\n",
      "Node 59 has closeness centrality 0.3315\n",
      "Node 60 has closeness centrality 0.1725\n",
      "Node 61 has closeness centrality 0.2921\n"
     ]
    }
   ],
   "source": [
    "# print the results\n",
    "for node, centrality in centrality.items():\n",
    "    print(f\"Node {node} has closeness centrality {centrality:.4f}\")"
   ]
  }
 ],
 "metadata": {
  "kernelspec": {
   "display_name": "Python 3 (ipykernel)",
   "language": "python",
   "name": "python3"
  },
  "language_info": {
   "codemirror_mode": {
    "name": "ipython",
    "version": 3
   },
   "file_extension": ".py",
   "mimetype": "text/x-python",
   "name": "python",
   "nbconvert_exporter": "python",
   "pygments_lexer": "ipython3",
   "version": "3.9.7"
  }
 },
 "nbformat": 4,
 "nbformat_minor": 5
}
